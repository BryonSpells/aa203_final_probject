{
 "metadata": {
  "language_info": {
   "codemirror_mode": {
    "name": "ipython",
    "version": 3
   },
   "file_extension": ".py",
   "mimetype": "text/x-python",
   "name": "python",
   "nbconvert_exporter": "python",
   "pygments_lexer": "ipython3",
   "version": 3
  },
  "orig_nbformat": 2
 },
 "nbformat": 4,
 "nbformat_minor": 2,
 "cells": [
  {
   "cell_type": "code",
   "execution_count": null,
   "metadata": {},
   "outputs": [],
   "source": [
    "from trajectory_functions import *\n",
    "\n",
    "# create idm data for one set of fixed parameters and 2 cars\n",
    "a = 0.73            # acceleration\n",
    "b = 1.67            # comfortable deceleration\n",
    "T = 1.6             # safe time gap\n",
    "v0 = 120/36         # desired speed\n",
    "l = 4               # average length of car\n",
    "s0 = 2              # jam distance\n",
    "s1 = 3              # jam distance nonlinear\n",
    "delt = 4            # acceleration exponent\n",
    "\n",
    "n = 2\n",
    "dt = 0.2\n",
    "endtime = 120\n",
    "nState = 3\n",
    "\n",
    "\n",
    "tspan = np.arange(0, endtime, dt)\n",
    "num_traj_points = len(tspan)\n",
    "\n",
    "y0_true = [21+(s0+l), 30/36]\n",
    "leader_traj = get_lead_traj(y0_true, n, a, b, T, v0, l, s0, s1, delt, num_traj_points, dt)\n",
    "plt.plot(tspan, leader_traj[0][:])\n",
    "plt.show()"
   ]
  }
 ]
}